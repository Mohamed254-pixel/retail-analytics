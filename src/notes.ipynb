{
 "cells": [
  {
   "cell_type": "code",
   "execution_count": 7,
   "id": "6560e589",
   "metadata": {},
   "outputs": [
    {
     "name": "stdout",
     "output_type": "stream",
     "text": [
      "\n",
      "=== cutomers ===\n",
      "   cust_id  join_date region\n",
      "0     1000 2023-02-06     FL\n",
      "1     1001 2023-03-07     NY\n",
      "2     1002 2023-05-14     CA\n",
      "3     1003 2023-04-12     TX\n",
      "4     1004 2023-03-03     CA\n",
      "shape: (220, 3)\n",
      "missing:\n",
      " cust_id      0\n",
      "join_date    0\n",
      "region       0\n",
      "dtype: int64\n",
      "\n",
      "=== daily_sales ===\n",
      "   store_id       date   amount  discount region quarter\n",
      "0       100 2024-01-01  2492.85      0.05     NY  2024Q1\n",
      "1       100 2024-01-02  1282.18      0.09     NY  2024Q1\n",
      "2       100 2024-01-04  1713.75      0.11     NY  2024Q1\n",
      "3       100 2024-01-06  1020.63      0.01     NY  2024Q1\n",
      "4       100 2024-01-07  1315.77      0.11     NY  2024Q1\n",
      "shape: (3150, 6)\n",
      "missing:\n",
      " store_id    0\n",
      "date        0\n",
      "amount      0\n",
      "discount    0\n",
      "region      0\n",
      "quarter     0\n",
      "dtype: int64\n",
      "\n",
      "=== orders ===\n",
      "   order_id  cust_id  store_id order_date  amount  discount\n",
      "0         1     1194       103 2024-12-27  293.63      0.07\n",
      "1         2     1172       104 2024-01-14  135.05      0.08\n",
      "2         3     1140       105 2024-01-12  280.76      0.08\n",
      "3         4     1219       104 2024-03-27  180.59      0.09\n",
      "4         5     1125       113 2024-01-12  771.45      0.07\n",
      "shape: (800, 6)\n",
      "missing:\n",
      " order_id       0\n",
      "cust_id        0\n",
      "store_id       0\n",
      "order_date     0\n",
      "amount        20\n",
      "discount      35\n",
      "dtype: int64\n",
      "\n",
      "=== stores ===\n",
      "   store_id store_name region\n",
      "0       100  Store_100     NY\n",
      "1       101  Store_101     TX\n",
      "2       102  Store_102     CA\n",
      "3       103  Store_103     WA\n",
      "4       104  Store_104     FL\n",
      "shape: (15, 3)\n",
      "missing:\n",
      " store_id      0\n",
      "store_name    0\n",
      "region        0\n",
      "dtype: int64\n"
     ]
    }
   ],
   "source": [
    "import pandas as pd \n",
    "\n",
    "customers  = pd.read_csv(\"customers.csv\", parse_dates=[\"join_date\"])\n",
    "daily_sales = pd.read_csv(\"daily_sales.csv\", parse_dates=[\"date\"])\n",
    "orders = pd.read_csv(\"orders.csv\", parse_dates=[\"order_date\"])\n",
    "stores = pd.read_csv(\"stores.csv\")\n",
    "\n",
    "for name, df in {\n",
    "    \"cutomers\" : customers,\n",
    "    \"daily_sales\": daily_sales, \n",
    "    \"orders\": orders, \n",
    "    \"stores\" : stores\n",
    "}.items():\n",
    "    print(f\"\\n=== {name} ===\")\n",
    "    print(df.head())\n",
    "    print(\"shape:\", df.shape)\n",
    "    print(\"missing:\\n\", df.isna().sum())"
   ]
  },
  {
   "cell_type": "code",
   "execution_count": 8,
   "id": "0e367f2a",
   "metadata": {},
   "outputs": [
    {
     "name": "stdout",
     "output_type": "stream",
     "text": [
      "     order_id  cust_id  store_id order_date  amount  discount\n",
      "0           1     1194       103 2024-12-27  293.63      0.07\n",
      "1           2     1172       104 2024-01-14  135.05      0.08\n",
      "2           3     1140       105 2024-01-12  280.76      0.08\n",
      "3           4     1219       104 2024-03-27  180.59      0.09\n",
      "4           5     1125       113 2024-01-12  771.45      0.07\n",
      "..        ...      ...       ...        ...     ...       ...\n",
      "795       796     1031       114 2024-10-21  395.51      0.20\n",
      "796       797     1119       102 2024-04-17  474.01      0.07\n",
      "797       798     1045       114 2024-10-07  836.14      0.07\n",
      "798       799     1143       108 2024-05-07  339.60      0.13\n",
      "799       800     1195       111 2024-08-16  647.03      0.17\n",
      "\n",
      "[780 rows x 6 columns]\n"
     ]
    }
   ],
   "source": [
    "customers[\"cust_id\"] = customers[\"cust_id\"].astype(\"int64\")\n",
    "stores[\"store_id\"]   = stores[\"store_id\"].astype(\"int64\")\n",
    "orders[\"store_id\"]   = orders[\"store_id\"].astype(\"int64\")\n",
    "orders[\"cust_id\"]    = orders[\"cust_id\"].astype(\"int64\")\n",
    "orders[\"discount\"] = orders[\"discount\"].fillna(0)\n",
    "orders_clean = orders.dropna(subset=[\"amount\"]).copy()\n",
    "print(orders_clean)\n"
   ]
  },
  {
   "cell_type": "code",
   "execution_count": 11,
   "id": "7931a923",
   "metadata": {},
   "outputs": [],
   "source": [
    "daily_sales[\"year\"]    = daily_sales[\"date\"].dt.year\n",
    "daily_sales[\"quarter\"] = daily_sales[\"date\"].dt.to_period(\"Q\").astype(str)\n",
    "orders_clean[\"year\"]    = orders_clean[\"order_date\"].dt.year\n",
    "orders_clean[\"quarter\"] = orders_clean[\"order_date\"].dt.to_period(\"Q\").astype(str)\n",
    "customers[\"join_month\"] = customers[\"join_date\"].dt.to_period(\"M\").astype(str)\n",
    "\n"
   ]
  },
  {
   "cell_type": "code",
   "execution_count": 13,
   "id": "43360cee",
   "metadata": {},
   "outputs": [
    {
     "name": "stdout",
     "output_type": "stream",
     "text": [
      "   region quarter    revenue  avg_discount\n",
      "0      CA  2024Q1  550496.20          0.07\n",
      "1      CA  2024Q2  535064.38          0.07\n",
      "2      CA  2024Q3  491145.06          0.07\n",
      "3      FL  2024Q1  326702.14          0.07\n",
      "4      FL  2024Q2  311321.61          0.07\n",
      "5      FL  2024Q3  311014.47          0.07\n",
      "6      NY  2024Q1  320585.91          0.07\n",
      "7      NY  2024Q2  327611.06          0.07\n",
      "8      NY  2024Q3  266113.84          0.07\n",
      "9      TX  2024Q1  331827.00          0.07\n",
      "10     TX  2024Q2  320559.23          0.07\n",
      "11     TX  2024Q3  307718.94          0.07\n",
      "12     WA  2024Q1  102142.36          0.07\n",
      "13     WA  2024Q2  105146.34          0.07\n",
      "14     WA  2024Q3   93293.70          0.07\n"
     ]
    }
   ],
   "source": [
    "reg_qtr = (daily_sales\n",
    "           .groupby([\"region\",\"quarter\"], as_index=False)\n",
    "           .agg(revenue=(\"amount\",\"sum\"),\n",
    "                avg_discount=(\"discount\",\"mean\")).round(2))\n",
    "\n",
    "print(reg_qtr)"
   ]
  },
  {
   "cell_type": "code",
   "execution_count": 15,
   "id": "9d266a31",
   "metadata": {},
   "outputs": [
    {
     "name": "stdout",
     "output_type": "stream",
     "text": [
      "quarter     2024Q1     2024Q2     2024Q3\n",
      "region                                  \n",
      "CA       550496.20  535064.38  491145.06\n",
      "FL       326702.14  311321.61  311014.47\n",
      "NY       320585.91  327611.06  266113.84\n",
      "TX       331827.00  320559.23  307718.94\n",
      "WA       102142.36  105146.34   93293.70\n"
     ]
    }
   ],
   "source": [
    "pivot_reg_qtr = reg_qtr.pivot_table(\n",
    "    values=\"revenue\", index=\"region\", columns=\"quarter\", aggfunc=\"sum\"\n",
    ").fillna(0)\n",
    "\n",
    "print(pivot_reg_qtr)"
   ]
  },
  {
   "cell_type": "code",
   "execution_count": 16,
   "id": "79d448c5",
   "metadata": {},
   "outputs": [
    {
     "name": "stdout",
     "output_type": "stream",
     "text": [
      "    store_id region    revenue  avg_discount\n",
      "11       111     TX  335993.83      0.067476\n",
      "5        105     FL  329201.76      0.070714\n",
      "2        102     CA  321451.55      0.070238\n",
      "10       110     CA  316793.78      0.069857\n",
      "12       112     NY  316296.21      0.069143\n",
      "8        108     CA  314771.33      0.069143\n",
      "13       113     TX  314106.26      0.068667\n",
      "7        107     FL  313657.13      0.070143\n",
      "9        109     CA  312687.44      0.072524\n",
      "14       114     CA  311001.54      0.068333\n"
     ]
    }
   ],
   "source": [
    "top_stores = (daily_sales\n",
    "              .groupby([\"store_id\",\"region\"], as_index=False)\n",
    "              .agg(revenue=(\"amount\",\"sum\"),\n",
    "                   avg_discount=(\"discount\",\"mean\"))\n",
    "              .sort_values(\"revenue\", ascending=False)\n",
    "              .head(10))\n",
    "print(top_stores)"
   ]
  },
  {
   "cell_type": "code",
   "execution_count": 17,
   "id": "371ffeb0",
   "metadata": {},
   "outputs": [
    {
     "name": "stdout",
     "output_type": "stream",
     "text": [
      "Unknown-customer orders: 34\n",
      "  cust_region   revenue\n",
      "0          CA  75322.03\n",
      "1          FL  53813.42\n",
      "2          NY  52950.29\n",
      "3          TX  56867.90\n",
      "4          WA  34632.62\n",
      "5         NaN  12875.48\n"
     ]
    }
   ],
   "source": [
    "orders_inner = orders_clean.merge(customers[[\"cust_id\",\"region\"]]\n",
    "                                  .rename(columns={\"region\":\"cust_region\"}),\n",
    "                                  on=\"cust_id\", how=\"inner\")\n",
    "\n",
    "\n",
    "orders_left  = orders_clean.merge(customers[[\"cust_id\",\"region\"]]\n",
    "                                  .rename(columns={\"region\":\"cust_region\"}),\n",
    "                                  on=\"cust_id\", how=\"left\")\n",
    "\n",
    "\n",
    "unknown_orders = orders_left[\"cust_region\"].isna().sum()\n",
    "print(\"Unknown-customer orders:\", unknown_orders)\n",
    "\n",
    "\n",
    "rev_by_cust_region = (orders_left\n",
    "                      .groupby(\"cust_region\", dropna=False, as_index=False)\n",
    "                      .agg(revenue=(\"amount\",\"sum\")))\n",
    "\n",
    "print(rev_by_cust_region)\n"
   ]
  },
  {
   "cell_type": "code",
   "execution_count": 18,
   "id": "de3855e4",
   "metadata": {},
   "outputs": [
    {
     "name": "stdout",
     "output_type": "stream",
     "text": [
      "  region     revenue  revenue_pct\n",
      "0     CA  1576705.64        33.54\n",
      "3     TX   960105.17        20.42\n",
      "1     FL   949038.22        20.19\n",
      "2     NY   914310.81        19.45\n",
      "4     WA   300582.40         6.39\n"
     ]
    }
   ],
   "source": [
    "region_totals = (daily_sales.groupby(\"region\", as_index=False)\n",
    "                 .agg(revenue=(\"amount\",\"sum\")))\n",
    "total_rev = region_totals[\"revenue\"].sum()\n",
    "region_totals[\"revenue_pct\"] = (region_totals[\"revenue\"] / total_rev * 100).round(2)\n",
    "\n",
    "print(region_totals.sort_values(\"revenue\", ascending=False))\n"
   ]
  },
  {
   "cell_type": "code",
   "execution_count": 21,
   "id": "1cdfeb3f",
   "metadata": {},
   "outputs": [],
   "source": [
    "reg_qtr[\"revenue_pct_in_qtr\"] = (\n",
    "    reg_qtr[\"revenue\"] / reg_qtr.groupby(\"quarter\")[\"revenue\"].transform(\"sum\") * 100\n",
    ").round(2)\n"
   ]
  },
  {
   "cell_type": "code",
   "execution_count": null,
   "id": "d028ea65",
   "metadata": {},
   "outputs": [
    {
     "name": "stdout",
     "output_type": "stream",
     "text": [
      "stores dup store_id: 0\n",
      "customers dup cust_id: 0\n",
      "Orders with unknown store_id: 0\n",
      "Orders (clean): 780\n",
      "Orders with known customers (inner): 746\n",
      "Orders left join rows: 780\n"
     ]
    }
   ],
   "source": [
    "print(\"stores dup store_id:\", stores[\"store_id\"].duplicated().sum())\n",
    "print(\"customers dup cust_id:\", customers[\"cust_id\"].duplicated().sum())\n",
    "\n",
    "\n",
    "unknown_stores = (~orders_clean[\"store_id\"].isin(stores[\"store_id\"])).sum()\n",
    "print(\"Orders with unknown store_id:\", unknown_stores)\n",
    "\n",
    "\n",
    "print(\"Orders (clean):\", len(orders_clean))\n",
    "print(\"Orders with known customers (inner):\", len(orders_inner))\n",
    "print(\"Orders left join rows:\", len(orders_left))"
   ]
  }
 ],
 "metadata": {
  "kernelspec": {
   "display_name": "Python 3",
   "language": "python",
   "name": "python3"
  },
  "language_info": {
   "codemirror_mode": {
    "name": "ipython",
    "version": 3
   },
   "file_extension": ".py",
   "mimetype": "text/x-python",
   "name": "python",
   "nbconvert_exporter": "python",
   "pygments_lexer": "ipython3",
   "version": "3.13.5"
  }
 },
 "nbformat": 4,
 "nbformat_minor": 5
}
